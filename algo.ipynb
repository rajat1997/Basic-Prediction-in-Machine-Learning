{
 "cells": [
  {
   "cell_type": "code",
   "execution_count": 1,
   "metadata": {},
   "outputs": [],
   "source": [
    "import numpy as np\n",
    "class MyLinearRegression:\n",
    "    def __init__(self):\n",
    "        self.m=None\n",
    "        self.c=None\n",
    "    def fit(self,x,y):\n",
    "        m=(((np.mean(x)*np.mean(y))-(np.mean(x*y)))/((np.mean(x)**2)-(np.mean(x*x))))\n",
    "        c=np.mean(y)-(np.mean(x)*m)\n",
    "        self.m=m\n",
    "        self.c=c\n",
    "    def predict(self,x):\n",
    "        if self.m is None or self.c is None:\n",
    "            return \"train the model first.\"\n",
    "        y=[]\n",
    "        for p in x:\n",
    "            y.append(self.m * p + self.c)\n",
    "        return np.array(y)"
   ]
  }
 ],
 "metadata": {
  "kernelspec": {
   "display_name": "Python 3",
   "language": "python",
   "name": "python3"
  },
  "language_info": {
   "codemirror_mode": {
    "name": "ipython",
    "version": 3
   },
   "file_extension": ".py",
   "mimetype": "text/x-python",
   "name": "python",
   "nbconvert_exporter": "python",
   "pygments_lexer": "ipython3",
   "version": "3.6.5"
  }
 },
 "nbformat": 4,
 "nbformat_minor": 2
}
